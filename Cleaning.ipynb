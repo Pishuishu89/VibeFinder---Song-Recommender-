{
 "cells": [
  {
   "cell_type": "code",
   "execution_count": 14,
   "id": "0ef16b11-2480-4d30-b043-f3153c7ec9ac",
   "metadata": {},
   "outputs": [],
   "source": [
    "import pandas as pd\n",
    "import numpy as np\n",
    "import matplotlib.pyplot as plt\n",
    "from sklearn.preprocessing import StandardScaler\n",
    "from sklearn.cluster import KMeans"
   ]
  },
  {
   "cell_type": "code",
   "execution_count": 15,
   "id": "3a7520ec-ea31-4915-b24d-7288332ee1d8",
   "metadata": {},
   "outputs": [
    {
     "name": "stdout",
     "output_type": "stream",
     "text": [
      "   genre        artist_name                        track_name  \\\n",
      "0  Movie     Henri Salvador       C'est beau de faire un Show   \n",
      "1  Movie  Martin & les fées  Perdu d'avance (par Gad Elmaleh)   \n",
      "2  Movie    Joseph Williams    Don't Let Me Be Lonely Tonight   \n",
      "3  Movie     Henri Salvador    Dis-moi Monsieur Gordon Cooper   \n",
      "4  Movie       Fabien Nataf                         Ouverture   \n",
      "\n",
      "                 track_id  popularity  acousticness  danceability  \\\n",
      "0  0BRjO6ga9RKCKjfDqeFgWV           0         0.611         0.389   \n",
      "1  0BjC1NfoEOOusryehmNudP           1         0.246         0.590   \n",
      "2  0CoSDzoNIKCRs124s9uTVy           3         0.952         0.663   \n",
      "3  0Gc6TVm52BwZD07Ki6tIvf           0         0.703         0.240   \n",
      "4  0IuslXpMROHdEPvSl1fTQK           4         0.950         0.331   \n",
      "\n",
      "   duration_ms  energy  instrumentalness key  liveness  loudness   mode  \\\n",
      "0        99373   0.910             0.000  C#    0.3460    -1.828  Major   \n",
      "1       137373   0.737             0.000  F#    0.1510    -5.559  Minor   \n",
      "2       170267   0.131             0.000   C    0.1030   -13.879  Minor   \n",
      "3       152427   0.326             0.000  C#    0.0985   -12.178  Major   \n",
      "4        82625   0.225             0.123   F    0.2020   -21.150  Major   \n",
      "\n",
      "   speechiness    tempo time_signature  valence  \n",
      "0       0.0525  166.969            4/4    0.814  \n",
      "1       0.0868  174.003            4/4    0.816  \n",
      "2       0.0362   99.488            5/4    0.368  \n",
      "3       0.0395  171.758            4/4    0.227  \n",
      "4       0.0456  140.576            4/4    0.390  \n"
     ]
    }
   ],
   "source": [
    "# Load the dataset\n",
    "df = pd.read_csv('SpotifyFeatures.csv')\n",
    "\n",
    "# See the first 5 rows\n",
    "print(df.head())"
   ]
  },
  {
   "cell_type": "code",
   "execution_count": 16,
   "id": "5372a2c8-452a-4ea6-9219-74841716332f",
   "metadata": {},
   "outputs": [],
   "source": [
    "features = [\n",
    "    'acousticness', 'danceability', 'duration_ms', 'energy',\n",
    "    'instrumentalness', 'liveness', 'loudness', 'speechiness',\n",
    "    'tempo', 'valence'\n",
    "]"
   ]
  },
  {
   "cell_type": "code",
   "execution_count": 17,
   "id": "0a65185e-e5ed-4431-9ab2-40da6903511e",
   "metadata": {},
   "outputs": [],
   "source": [
    "X = df[features]"
   ]
  },
  {
   "cell_type": "code",
   "execution_count": 18,
   "id": "2acff133-105e-4782-8d8a-e06aecab8649",
   "metadata": {},
   "outputs": [
    {
     "name": "stdout",
     "output_type": "stream",
     "text": [
      "        acousticness  danceability  duration_ms  energy  instrumentalness  \\\n",
      "0            0.61100         0.389        99373   0.910          0.000000   \n",
      "1            0.24600         0.590       137373   0.737          0.000000   \n",
      "2            0.95200         0.663       170267   0.131          0.000000   \n",
      "3            0.70300         0.240       152427   0.326          0.000000   \n",
      "4            0.95000         0.331        82625   0.225          0.123000   \n",
      "...              ...           ...          ...     ...               ...   \n",
      "232720       0.00384         0.687       326240   0.714          0.544000   \n",
      "232721       0.03290         0.785       282447   0.683          0.000880   \n",
      "232722       0.90100         0.517       166960   0.419          0.000000   \n",
      "232723       0.26200         0.745       222442   0.704          0.000000   \n",
      "232724       0.09730         0.758       323027   0.470          0.000049   \n",
      "\n",
      "        liveness  loudness  speechiness    tempo  valence  \n",
      "0         0.3460    -1.828       0.0525  166.969    0.814  \n",
      "1         0.1510    -5.559       0.0868  174.003    0.816  \n",
      "2         0.1030   -13.879       0.0362   99.488    0.368  \n",
      "3         0.0985   -12.178       0.0395  171.758    0.227  \n",
      "4         0.2020   -21.150       0.0456  140.576    0.390  \n",
      "...          ...       ...          ...      ...      ...  \n",
      "232720    0.0845   -10.626       0.0316  115.542    0.962  \n",
      "232721    0.2370    -6.944       0.0337  113.830    0.969  \n",
      "232722    0.0945    -8.282       0.1480   84.135    0.813  \n",
      "232723    0.3330    -7.137       0.1460  100.031    0.489  \n",
      "232724    0.0836    -6.708       0.0287  113.897    0.479  \n",
      "\n",
      "[232725 rows x 10 columns]\n"
     ]
    }
   ],
   "source": [
    "print(X)"
   ]
  },
  {
   "cell_type": "code",
   "execution_count": 20,
   "id": "841fbe9c-d1f4-4e92-8c03-ed3a8c04b74b",
   "metadata": {},
   "outputs": [],
   "source": [
    "scaler = StandardScaler()\n",
    "X_scaled = scaler.fit_transform(X)"
   ]
  },
  {
   "cell_type": "code",
   "execution_count": 21,
   "id": "ed7f6f8b-7858-478f-96aa-5e3e73e3f6c1",
   "metadata": {},
   "outputs": [
    {
     "name": "stdout",
     "output_type": "stream",
     "text": [
      "[[ 0.6833763  -0.89093479 -1.14136792  1.28690794 -0.48981852  0.66066116\n",
      "   1.29070344 -0.36796995  1.5956073   1.38074423]\n",
      " [-0.34546718  0.19199369 -0.82186742  0.6302493  -0.48981852 -0.32283546\n",
      "   0.66868254 -0.18308213  1.82325339  1.38843461]\n",
      " [ 1.6445698   0.58529607 -0.54529771 -1.66995381 -0.48981852 -0.56492694\n",
      "  -0.7184024  -0.45583209 -0.5883258  -0.33421214]\n",
      " [ 0.94270123 -1.69370266 -0.69529478 -0.92978944 -0.48981852 -0.58762302\n",
      "  -0.43481688 -0.43804404  1.75059694 -0.87638445]\n",
      " [ 1.6389323  -1.20342161 -1.28218355 -1.31315662 -0.08356649 -0.06561327\n",
      "  -1.93060126 -0.40516312  0.74143285 -0.24961788]]\n"
     ]
    }
   ],
   "source": [
    "print(X_scaled[:5])"
   ]
  },
  {
   "cell_type": "code",
   "execution_count": 23,
   "id": "84c80ce2-d69b-4005-b79f-026ae6e1b45a",
   "metadata": {},
   "outputs": [
    {
     "data": {
      "image/png": "[encoded data removed]",
      "text/plain": [
       "<Figure size 640x480 with 1 Axes>"
      ]
     },
     "metadata": {},
     "output_type": "display_data"
    }
   ],
   "source": [
    "# Elbow method to find best number of clusters\n",
    "inertia = []\n",
    "\n",
    "for k in range(1, 15):\n",
    "    kmeans = KMeans(n_clusters=k, random_state=42)\n",
    "    kmeans.fit(X_scaled)\n",
    "    inertia.append(kmeans.inertia_)\n",
    "\n",
    "# Plotting the elbow\n",
    "plt.plot(range(1, 15), inertia, marker='o')\n",
    "plt.title('Elbow Method')\n",
    "plt.xlabel('Number of Clusters (k)')\n",
    "plt.ylabel('Inertia')\n",
    "plt.grid(True)\n",
    "plt.show()\n"
   ]
  },
  {
   "cell_type": "code",
   "execution_count": 24,
   "id": "cebbbb5f-aa15-416e-b798-1ea5f4c375fc",
   "metadata": {},
   "outputs": [],
   "source": [
    "k = 8"
   ]
  },
  {
   "cell_type": "code",
   "execution_count": 25,
   "id": "88b1a620-e62f-452b-b75e-224dcfb4fc7d",
   "metadata": {},
   "outputs": [
    {
     "name": "stdout",
     "output_type": "stream",
     "text": [
      "                         track_name        artist_name  cluster\n",
      "0       C'est beau de faire un Show     Henri Salvador        6\n",
      "1  Perdu d'avance (par Gad Elmaleh)  Martin & les fées        6\n",
      "2    Don't Let Me Be Lonely Tonight    Joseph Williams        3\n",
      "3    Dis-moi Monsieur Gordon Cooper     Henri Salvador        3\n",
      "4                         Ouverture       Fabien Nataf        3\n"
     ]
    }
   ],
   "source": [
    "# Create final KMeans model with k=6\n",
    "kmeans = KMeans(n_clusters=8, random_state=42)\n",
    "kmeans.fit(X_scaled)\n",
    "\n",
    "# Add the cluster labels to the original dataframe\n",
    "df['cluster'] = kmeans.labels_\n",
    "\n",
    "# Show a sample\n",
    "print(df[['track_name', 'artist_name', 'cluster']].head())"
   ]
  },
  {
   "cell_type": "code",
   "execution_count": 27,
   "id": "315db60a-f1a5-4366-8546-8af5ac9ac112",
   "metadata": {},
   "outputs": [],
   "source": [
    "# Recommendation Function\n",
    "def recommend_song(song_name, data, scaler, kmeans_model, features, n_recs=5):\n",
    "    # Find the song\n",
    "    song = data[data['track_name'].str.lower() == song_name.lower()]\n",
    "    if song.empty:\n",
    "        print(\"Song not found in database!\")\n",
    "        return []\n",
    "    \n",
    "    # Scale the song features\n",
    "    song_features = scaler.transform(song[features])\n",
    "    \n",
    "    # Predict the cluster\n",
    "    cluster_label = kmeans_model.predict(song_features)[0]\n",
    "    \n",
    "    # Get songs from the same cluster\n",
    "    recommendations = data[data['cluster'] == cluster_label]\n",
    "    \n",
    "    # Randomly pick n_recs songs\n",
    "    recommendations = recommendations.sample(n=n_recs)\n",
    "    \n",
    "    return recommendations[['track_name', 'artist_name']]"
   ]
  },
  {
   "cell_type": "code",
   "execution_count": 29,
   "id": "54f052c2-c1e0-4785-b357-f05b05659867",
   "metadata": {},
   "outputs": [
    {
     "name": "stdout",
     "output_type": "stream",
     "text": [
      "               track_name           artist_name\n",
      "211110  Rising Sun - Live  All Sons & Daughters\n",
      "190775             Panic!            The Briggs\n",
      "77816             Dragula            Rob Zombie\n",
      "11131        I Am A River          Foo Fighters\n",
      "87337            Magnolia         Playboi Carti\n"
     ]
    }
   ],
   "source": [
    "recommendations = recommend_song('Marry You', df, scaler, kmeans, features)\n",
    "print(recommendations)"
   ]
  },
  {
   "cell_type": "code",
   "execution_count": 30,
   "id": "79a7dba7-f718-4039-b209-b8c56306e516",
   "metadata": {},
   "outputs": [
    {
     "data": {
      "text/plain": [
       "['kmeans.pkl']"
      ]
     },
     "execution_count": 30,
     "metadata": {},
     "output_type": "execute_result"
    }
   ],
   "source": [
    "import joblib\n",
    "\n",
    "joblib.dump(scaler, 'scaler.pkl')\n",
    "joblib.dump(kmeans, 'kmeans.pkl')"
   ]
  },
  {
   "cell_type": "code",
   "execution_count": 31,
   "id": "9800fd1d-0ae4-4288-a2e2-41ee09638c16",
   "metadata": {},
   "outputs": [],
   "source": [
    "df['cluster'] = kmeans.labels_\n"
   ]
  },
  {
   "cell_type": "code",
   "execution_count": null,
   "id": "e44e40c9-d529-49e0-80a2-87d76046bedc",
   "metadata": {},
   "outputs": [],
   "source": []
  }
 ],
 "metadata": {
  "kernelspec": {
   "display_name": "Python 3 (ipykernel)",
   "language": "python",
   "name": "python3"
  },
  "language_info": {
   "codemirror_mode": {
    "name": "ipython",
    "version": 3
   },
   "file_extension": ".py",
   "mimetype": "text/x-python",
   "name": "python",
   "nbconvert_exporter": "python",
   "pygments_lexer": "ipython3",
   "version": "3.13.3"
  }
 },
 "nbformat": 4,
 "nbformat_minor": 5
}
